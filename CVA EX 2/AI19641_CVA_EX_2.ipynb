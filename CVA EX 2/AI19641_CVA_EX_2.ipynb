{
  "nbformat": 4,
  "nbformat_minor": 0,
  "metadata": {
    "colab": {
      "provenance": [],
      "authorship_tag": "ABX9TyMaLH34VAY9H1oeU4ZiYylY",
      "include_colab_link": true
    },
    "kernelspec": {
      "name": "python3",
      "display_name": "Python 3"
    },
    "language_info": {
      "name": "python"
    }
  },
  "cells": [
    {
      "cell_type": "markdown",
      "metadata": {
        "id": "view-in-github",
        "colab_type": "text"
      },
      "source": [
        "<a href=\"https://colab.research.google.com/github/SwadhiRSSRS/Computer-Vision-and-its-Applications/blob/main/CVA%20EX%202/AI19641_CVA_EX_2.ipynb\" target=\"_parent\"><img src=\"https://colab.research.google.com/assets/colab-badge.svg\" alt=\"Open In Colab\"/></a>"
      ]
    },
    {
      "cell_type": "markdown",
      "source": [
        "# EX 2"
      ],
      "metadata": {
        "id": "nBx9MPEsmTAy"
      }
    },
    {
      "cell_type": "markdown",
      "source": [
        " Build a simple CNN model for image segmentation\n"
      ],
      "metadata": {
        "id": "T8_wvJONmX19"
      }
    },
    {
      "cell_type": "code",
      "source": [
        "import tensorflow as tf\n",
        "from tensorflow.keras.models import Model\n",
        "from tensorflow.keras.layers import Conv2D,MaxPooling2D,UpSampling2D,Input\n",
        "import numpy as np\n",
        "import matplotlib.pyplot as plt\n",
        "from tensorflow.keras.datasets import mnist"
      ],
      "metadata": {
        "id": "eSwYawQpmf-S"
      },
      "execution_count": null,
      "outputs": []
    },
    {
      "cell_type": "code",
      "source": [
        "(x_train,y_train),(x_test,y_test)=mnist.load_data()\n"
      ],
      "metadata": {
        "id": "WQwWatMLv3O8"
      },
      "execution_count": null,
      "outputs": []
    },
    {
      "cell_type": "code",
      "source": [
        "x_train=x_train.astype(\"float32\")/255.0 #normalize\n",
        "x_test=x_test.astype(\"float32\")/255.0"
      ],
      "metadata": {
        "id": "RJgruRcOwIzy"
      },
      "execution_count": null,
      "outputs": []
    },
    {
      "cell_type": "code",
      "source": [
        "x_train =np.expand_dims(x_train,axis=-1)\n",
        "x_test=np.expand_dims(x_test,axis=-1)"
      ],
      "metadata": {
        "id": "DtG8HzH8wbA_"
      },
      "execution_count": null,
      "outputs": []
    },
    {
      "cell_type": "code",
      "source": [
        "y_train=(x_train>0.5).astype(\"float32\")\n",
        "y_test=(x_test>0.5).astype(\"float32\")"
      ],
      "metadata": {
        "id": "7QsDA-I1wynG"
      },
      "execution_count": null,
      "outputs": []
    },
    {
      "cell_type": "code",
      "source": [
        "def build_segmentation_model():\n",
        "    inputs = Input(shape=(28, 28, 1))\n",
        "\n",
        "    # Encoder (Downsampling)\n",
        "    x = Conv2D(32, (3, 3), activation=\"relu\", padding=\"same\")(inputs)\n",
        "    x = MaxPooling2D((2, 2))(x)\n",
        "    x = Conv2D(64, (3, 3), activation=\"relu\", padding=\"same\")(x)\n",
        "    x = MaxPooling2D((2, 2))(x)\n",
        "\n",
        "    # Decoder (Upsampling)\n",
        "    x = Conv2D(64, (3, 3), activation=\"relu\", padding=\"same\")(x)\n",
        "    x = UpSampling2D((2, 2))(x)\n",
        "    x = Conv2D(32, (3, 3), activation=\"relu\", padding=\"same\")(x)\n",
        "    x = UpSampling2D((2, 2))(x)\n",
        "\n",
        "    # Output Layer (Segmentation Mask)\n",
        "    outputs = Conv2D(1, (1, 1), activation=\"sigmoid\", padding=\"same\")(x)\n",
        "\n",
        "    model = Model(inputs, outputs)\n",
        "    model.compile(optimizer=\"adam\", loss=\"binary_crossentropy\", metrics=[\"accuracy\"])\n",
        "    return model"
      ],
      "metadata": {
        "id": "QqdW_OfhxGpw"
      },
      "execution_count": null,
      "outputs": []
    },
    {
      "cell_type": "code",
      "source": [
        "model = build_segmentation_model()\n",
        "model.fit(x_train, y_train, epochs=5, batch_size=64, validation_data=(x_test, y_test))"
      ],
      "metadata": {
        "colab": {
          "base_uri": "https://localhost:8080/"
        },
        "id": "pvLLvwZPyJfy",
        "outputId": "22d041b3-3079-4103-cd30-b9c067b27f0b"
      },
      "execution_count": null,
      "outputs": [
        {
          "output_type": "stream",
          "name": "stdout",
          "text": [
            "Epoch 1/5\n",
            "\u001b[1m938/938\u001b[0m \u001b[32m━━━━━━━━━━━━━━━━━━━━\u001b[0m\u001b[37m\u001b[0m \u001b[1m13s\u001b[0m 9ms/step - accuracy: 0.9331 - loss: 0.1508 - val_accuracy: 0.9525 - val_loss: 0.0946\n",
            "Epoch 2/5\n",
            "\u001b[1m938/938\u001b[0m \u001b[32m━━━━━━━━━━━━━━━━━━━━\u001b[0m\u001b[37m\u001b[0m \u001b[1m4s\u001b[0m 5ms/step - accuracy: 0.9522 - loss: 0.0943 - val_accuracy: 0.9529 - val_loss: 0.0912\n",
            "Epoch 3/5\n",
            "\u001b[1m938/938\u001b[0m \u001b[32m━━━━━━━━━━━━━━━━━━━━\u001b[0m\u001b[37m\u001b[0m \u001b[1m5s\u001b[0m 4ms/step - accuracy: 0.9526 - loss: 0.0912 - val_accuracy: 0.9530 - val_loss: 0.0894\n",
            "Epoch 4/5\n",
            "\u001b[1m938/938\u001b[0m \u001b[32m━━━━━━━━━━━━━━━━━━━━\u001b[0m\u001b[37m\u001b[0m \u001b[1m4s\u001b[0m 5ms/step - accuracy: 0.9528 - loss: 0.0897 - val_accuracy: 0.9532 - val_loss: 0.0881\n",
            "Epoch 5/5\n",
            "\u001b[1m938/938\u001b[0m \u001b[32m━━━━━━━━━━━━━━━━━━━━\u001b[0m\u001b[37m\u001b[0m \u001b[1m5s\u001b[0m 5ms/step - accuracy: 0.9528 - loss: 0.0888 - val_accuracy: 0.9533 - val_loss: 0.0871\n"
          ]
        },
        {
          "output_type": "execute_result",
          "data": {
            "text/plain": [
              "<keras.src.callbacks.history.History at 0x7d5920491810>"
            ]
          },
          "metadata": {},
          "execution_count": 11
        }
      ]
    },
    {
      "cell_type": "code",
      "source": [
        "def predict_and_display(index):\n",
        "    sample = x_test[index:index+1]\n",
        "    prediction = model.predict(sample)[0]\n",
        "\n",
        "    fig, axes = plt.subplots(1, 3, figsize=(12, 4))\n",
        "    axes[0].imshow(sample.squeeze(), cmap=\"gray\")\n",
        "    axes[0].set_title(\"Original Image\")\n",
        "    axes[1].imshow(y_test[index].squeeze(), cmap=\"gray\")\n",
        "    axes[1].set_title(\"True Mask\")\n",
        "    axes[2].imshow(prediction.squeeze(), cmap=\"gray\")\n",
        "    axes[2].set_title(\"Predicted Mask\")\n",
        "    plt.show()\n",
        "\n",
        "# Show results on a random test sample\n",
        "predict_and_display(1)"
      ],
      "metadata": {
        "colab": {
          "base_uri": "https://localhost:8080/",
          "height": 374
        },
        "id": "6QTpqL-hyMTb",
        "outputId": "a5cc2370-02fb-4be4-cc49-a3eb600a8dbe"
      },
      "execution_count": null,
      "outputs": [
        {
          "output_type": "stream",
          "name": "stdout",
          "text": [
            "\u001b[1m1/1\u001b[0m \u001b[32m━━━━━━━━━━━━━━━━━━━━\u001b[0m\u001b[37m\u001b[0m \u001b[1m1s\u001b[0m 751ms/step\n"
          ]
        },
        {
          "output_type": "display_data",
          "data": {
            "text/plain": [
              "<Figure size 1200x400 with 3 Axes>"
            ],
            "image/png": "[encoded data removed]"
          },
          "metadata": {}
        }
      ]
    },
    {
      "cell_type": "code",
      "source": [
        "predict_and_display(9)"
      ],
      "metadata": {
        "colab": {
          "base_uri": "https://localhost:8080/",
          "height": 374
        },
        "id": "Bp90vrzpyp5A",
        "outputId": "5807f432-0321-4f62-c167-ca075bd376aa"
      },
      "execution_count": null,
      "outputs": [
        {
          "output_type": "stream",
          "name": "stdout",
          "text": [
            "\u001b[1m1/1\u001b[0m \u001b[32m━━━━━━━━━━━━━━━━━━━━\u001b[0m\u001b[37m\u001b[0m \u001b[1m0s\u001b[0m 30ms/step\n"
          ]
        },
        {
          "output_type": "display_data",
          "data": {
            "text/plain": [
              "<Figure size 1200x400 with 3 Axes>"
            ],
            "image/png": "[encoded data removed]"
          },
          "metadata": {}
        }
      ]
    }
  ]
}